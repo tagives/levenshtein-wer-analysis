{
  "nbformat": 4,
  "nbformat_minor": 0,
  "metadata": {
    "colab": {
      "provenance": []
    },
    "kernelspec": {
      "name": "python3",
      "display_name": "Python 3"
    },
    "language_info": {
      "name": "python"
    }
  },
  "cells": [
    {
      "cell_type": "markdown",
      "source": [
        "# Levenshtein Distance and Word Error Rate (WER) Computation\n",
        "\n",
        "This notebook demonstrates implementations of the Levenshtein Distance algorithm (Naïve Recursive, Dynamic Programming, and Optimized DP) and its practical use for computing Word Error Rate (WER) in Automatic Speech Recognition (ASR) systems.\n"
      ],
      "metadata": {
        "id": "jUvhJ7OqECVk"
      }
    },
    {
      "cell_type": "code",
      "source": [
        "def levenshtein_recursive(s1, s2, m, n):\n",
        "    if m == 0:\n",
        "        return n\n",
        "    if n == 0:\n",
        "        return m\n",
        "    if s1[m - 1] == s2[n - 1]:\n",
        "        return levenshtein_recursive(s1, s2, m - 1, n - 1)\n",
        "\n",
        "    return 1 + min(\n",
        "        levenshtein_recursive(s1, s2, m, n - 1),\n",
        "        levenshtein_recursive(s1, s2, m - 1, n),\n",
        "        levenshtein_recursive(s1, s2, m - 1, n - 1)\n",
        "    )\n",
        "\n",
        "# Example Usage\n",
        "s1, s2 = \"kitten\", \"sitting\"\n",
        "print(\"Naïve Recursive Levenshtein Distance:\", levenshtein_recursive(s1, s2, len(s1), len(s2)))\n"
      ],
      "metadata": {
        "colab": {
          "base_uri": "https://localhost:8080/"
        },
        "id": "J37QtQeKEDV2",
        "outputId": "31a81c2f-a657-436c-ebd3-3feb12ac1deb"
      },
      "execution_count": 1,
      "outputs": [
        {
          "output_type": "stream",
          "name": "stdout",
          "text": [
            "Naïve Recursive Levenshtein Distance: 3\n"
          ]
        }
      ]
    },
    {
      "cell_type": "code",
      "source": [
        "import numpy as np\n",
        "\n",
        "def levenshtein_dp(s1, s2):\n",
        "    m, n = len(s1), len(s2)\n",
        "    dp = np.zeros((m + 1, n + 1))\n",
        "\n",
        "    for i in range(m + 1):\n",
        "        for j in range(n + 1):\n",
        "            if i == 0:\n",
        "                dp[i][j] = j\n",
        "            elif j == 0:\n",
        "                dp[i][j] = i\n",
        "            elif s1[i - 1] == s2[j - 1]:\n",
        "                dp[i][j] = dp[i - 1][j - 1]\n",
        "            else:\n",
        "                dp[i][j] = 1 + min(dp[i - 1][j], dp[i][j - 1], dp[i - 1][j - 1])\n",
        "    return int(dp[m][n])\n",
        "\n",
        "# Example Usage\n",
        "s1, s2 = \"kitten\", \"sitting\"\n",
        "print(\"DP Levenshtein Distance:\", levenshtein_dp(s1, s2))\n"
      ],
      "metadata": {
        "colab": {
          "base_uri": "https://localhost:8080/"
        },
        "id": "cJCK5_AvEKSl",
        "outputId": "804803e4-0751-456d-83bc-c41396a7173c"
      },
      "execution_count": 2,
      "outputs": [
        {
          "output_type": "stream",
          "name": "stdout",
          "text": [
            "DP Levenshtein Distance: 3\n"
          ]
        }
      ]
    },
    {
      "cell_type": "code",
      "source": [
        "def levenshtein_optimized(s1, s2):\n",
        "    m, n = len(s1), len(s2)\n",
        "    if m < n:\n",
        "        s1, s2 = s2, s1\n",
        "        m, n = n, m\n",
        "\n",
        "    previous_row = list(range(n + 1))\n",
        "    current_row = [0] * (n + 1)\n",
        "\n",
        "    for i in range(1, m + 1):\n",
        "        current_row[0] = i\n",
        "        for j in range(1, n + 1):\n",
        "            if s1[i - 1] == s2[j - 1]:\n",
        "                current_row[j] = previous_row[j - 1]\n",
        "            else:\n",
        "                current_row[j] = 1 + min(previous_row[j], current_row[j - 1], previous_row[j - 1])\n",
        "        previous_row = current_row[:]\n",
        "\n",
        "    return previous_row[n]\n",
        "\n",
        "# Example Usage\n",
        "s1, s2 = \"kitten\", \"sitting\"\n",
        "print(\"Optimized DP Levenshtein Distance:\", levenshtein_optimized(s1, s2))\n"
      ],
      "metadata": {
        "colab": {
          "base_uri": "https://localhost:8080/"
        },
        "id": "LCZgduovEMoX",
        "outputId": "262885be-7ea2-49e9-ff1c-4b25533e544e"
      },
      "execution_count": 3,
      "outputs": [
        {
          "output_type": "stream",
          "name": "stdout",
          "text": [
            "Optimized DP Levenshtein Distance: 3\n"
          ]
        }
      ]
    },
    {
      "cell_type": "code",
      "source": [
        "!pip install jiwer\n"
      ],
      "metadata": {
        "colab": {
          "base_uri": "https://localhost:8080/"
        },
        "id": "vQMB-AKHEPg4",
        "outputId": "4e01ef0c-b515-4386-b6c1-26422766da03"
      },
      "execution_count": 4,
      "outputs": [
        {
          "output_type": "stream",
          "name": "stdout",
          "text": [
            "Collecting jiwer\n",
            "  Downloading jiwer-3.1.0-py3-none-any.whl.metadata (2.6 kB)\n",
            "Requirement already satisfied: click>=8.1.8 in /usr/local/lib/python3.11/dist-packages (from jiwer) (8.1.8)\n",
            "Collecting rapidfuzz>=3.9.7 (from jiwer)\n",
            "  Downloading rapidfuzz-3.12.2-cp311-cp311-manylinux_2_17_x86_64.manylinux2014_x86_64.whl.metadata (12 kB)\n",
            "Downloading jiwer-3.1.0-py3-none-any.whl (22 kB)\n",
            "Downloading rapidfuzz-3.12.2-cp311-cp311-manylinux_2_17_x86_64.manylinux2014_x86_64.whl (3.1 MB)\n",
            "\u001b[2K   \u001b[90m━━━━━━━━━━━━━━━━━━━━━━━━━━━━━━━━━━━━━━━━\u001b[0m \u001b[32m3.1/3.1 MB\u001b[0m \u001b[31m32.0 MB/s\u001b[0m eta \u001b[36m0:00:00\u001b[0m\n",
            "\u001b[?25hInstalling collected packages: rapidfuzz, jiwer\n",
            "Successfully installed jiwer-3.1.0 rapidfuzz-3.12.2\n"
          ]
        }
      ]
    },
    {
      "cell_type": "code",
      "source": [
        "import jiwer\n",
        "\n",
        "reference = \"The quick brown fox jumps over the lazy dog\"\n",
        "\n",
        "google_transcript = \"The quick brown fox jump over the lazy dog\"\n",
        "whisper_transcript = \"The quick brown fox jumps over the lazy dog\"\n",
        "\n",
        "wer_google = jiwer.wer(reference, google_transcript)\n",
        "wer_whisper = jiwer.wer(reference, whisper_transcript)\n",
        "\n",
        "print(f\"Google Speech-to-Text WER: {wer_google:.2%}\")\n",
        "print(f\"Whisper AI WER: {wer_whisper:.2%}\")\n"
      ],
      "metadata": {
        "colab": {
          "base_uri": "https://localhost:8080/"
        },
        "id": "TGRYirxZEQCc",
        "outputId": "fb495b96-78d5-4ab2-e912-76e7f4f1e1b0"
      },
      "execution_count": 5,
      "outputs": [
        {
          "output_type": "stream",
          "name": "stdout",
          "text": [
            "Google Speech-to-Text WER: 11.11%\n",
            "Whisper AI WER: 0.00%\n"
          ]
        }
      ]
    },
    {
      "cell_type": "code",
      "source": [
        "import matplotlib.pyplot as plt\n",
        "\n",
        "models = [\"Google STT\", \"Whisper AI\"]\n",
        "wer_scores = [wer_google, wer_whisper]\n",
        "\n",
        "plt.figure(figsize=(8, 5))\n",
        "plt.bar(models, wer_scores, color=[\"#1f77b4\", \"#2ca02c\"])\n",
        "plt.xlabel(\"ASR Models\")\n",
        "plt.ylabel(\"Word Error Rate (WER)\")\n",
        "plt.title(\"Comparison of WER across ASR Models on TED-LIUM Dataset\")\n",
        "plt.ylim(0, max(wer_scores) + 0.05)\n",
        "plt.show()\n"
      ],
      "metadata": {
        "colab": {
          "base_uri": "https://localhost:8080/",
          "height": 487
        },
        "id": "J69LEBDHEUYV",
        "outputId": "4c9b7465-e869-47b5-ed4e-9fe2bdd14a03"
      },
      "execution_count": 6,
      "outputs": [
        {
          "output_type": "display_data",
          "data": {
            "text/plain": [
              "<Figure size 800x500 with 1 Axes>"
            ],
            "image/png": "[encoded data removed]"
          },
          "metadata": {}
        }
      ]
    }
  ]
}